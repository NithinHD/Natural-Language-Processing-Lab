{
 "cells": [
  {
   "cell_type": "code",
   "execution_count": 3,
   "metadata": {},
   "outputs": [],
   "source": [
    "import nltk"
   ]
  },
  {
   "cell_type": "code",
   "execution_count": 10,
   "metadata": {},
   "outputs": [],
   "source": [
    "from nltk.tokenize import sent_tokenize\n",
    "STD_OUT=(sent_tokenize(STD_IN))\n",
    "for i in STD_OUT:\n",
    "    print(i)"
   ]
  },
  {
   "cell_type": "code",
   "execution_count": 1,
   "metadata": {},
   "outputs": [],
   "source": [
    "import re"
   ]
  },
  {
   "cell_type": "code",
   "execution_count": 16,
   "metadata": {},
   "outputs": [],
   "source": [
    "pattern=re.compile(r'[.?!][\\s+$]')"
   ]
  },
  {
   "cell_type": "code",
   "execution_count": 15,
   "metadata": {},
   "outputs": [
    {
     "name": "stdout",
     "output_type": "stream",
     "text": [
      "In the third category he included those Brothers (the majority) who saw nothing in Freemasonry but the external forms and ceremonies, and prized the strict performance of these forms without troubling about their purport or significance\n",
      " Such were Willarski and even the Grand Master of the principal lodge\n",
      " Finally, to the fourth category also a great many Brothers belonged, particularly those who had lately joined\n",
      " These according to Pierre's observations were men who had no belief in anything, nor desire for anything, but joined the Freemasons merely to associate with the wealthy young Brothers who were influential through their connections or rank, and of whom there were very many in the lodge\n",
      "Pierre began to feel dissatisfied with what he was doing\n",
      " Freemasonry, at any rate as he saw it here, sometimes seemed to him based merely on externals\n",
      " He did not think of doubting Freemasonry itself, but suspected that Russian Masonry had taken a wrong path and deviated from its original principles\n",
      " And so toward the end of the year he went abroad to be initiated into the higher secrets of the order\n",
      "What is to be done in these circumstances\n",
      " To favor revolutions, overthrow everything, repel force by force\n",
      "No\n",
      " We are very far from that\n",
      " Every violent reform deserves censure, for it quite fails to remedy evil while men remain what they are, and also because wisdom needs no violence\n",
      " \"But what is there in running across it like that\n",
      "\" said Ilagin's groom\n",
      " \"Once she had missed it and turned it away, any mongrel could take it,\" Ilagin was saying at the same time, breathless from his gallop and his excitement\n",
      "\n"
     ]
    }
   ],
   "source": [
    "STD_IN='''In the third category he included those Brothers (the majority) who saw nothing in Freemasonry but the external forms and ceremonies, and prized the strict performance of these forms without troubling about their purport or significance. Such were Willarski and even the Grand Master of the principal lodge. Finally, to the fourth category also a great many Brothers belonged, particularly those who had lately joined. These according to Pierre's observations were men who had no belief in anything, nor desire for anything, but joined the Freemasons merely to associate with the wealthy young Brothers who were influential through their connections or rank, and of whom there were very many in the lodge.Pierre began to feel dissatisfied with what he was doing. Freemasonry, at any rate as he saw it here, sometimes seemed to him based merely on externals. He did not think of doubting Freemasonry itself, but suspected that Russian Masonry had taken a wrong path and deviated from its original principles. And so toward the end of the year he went abroad to be initiated into the higher secrets of the order.What is to be done in these circumstances? To favor revolutions, overthrow everything, repel force by force?No! We are very far from that. Every violent reform deserves censure, for it quite fails to remedy evil while men remain what they are, and also because wisdom needs no violence. \"But what is there in running across it like that?\" said Ilagin's groom. \"Once she had missed it and turned it away, any mongrel could take it,\" Ilagin was saying at the same time, breathless from his gallop and his excitement.'''\n",
    "\n",
    "STDOUT=(pattern.split(STD_IN))\n",
    "for i in STDOUT:\n",
    "    print(i)"
   ]
  },
  {
   "cell_type": "code",
   "execution_count": 18,
   "metadata": {},
   "outputs": [
    {
     "name": "stdout",
     "output_type": "stream",
     "text": [
      "962\n"
     ]
    }
   ],
   "source": [
    "import math\n",
    "\n",
    "cross_entropy = 9.91\n",
    "perplexity = 2 ** cross_entropy\n",
    "rounded_perplexity = round(perplexity)\n",
    "\n",
    "print(rounded_perplexity)"
   ]
  },
  {
   "cell_type": "code",
   "execution_count": null,
   "metadata": {},
   "outputs": [],
   "source": [
    "from __future__ import with_statement #with statement for reading file\n",
    "import re   # Regular expression\n",
    "\n",
    "# Define the variable \"text\"\n",
    "text = \"Your text goes here\"\n",
    "\n",
    "a = re.split(r'\\s|(?<!\\d)[,.](?!\\d)', text)\n",
    "test_lenth = len(testword)       # lenth of the test data\n",
    "\n",
    "def Seg(a,lenth):\n",
    "    ans =[]\n",
    "    for k in range(0,lenth+1):  # this loop checks char by char in the corpus\n",
    "        \n",
    "        if a[0:k] in words:\n",
    "            print(a[0:k],\"-appears in the corpus\")\n",
    "            ans.append(a[0:k])   \n",
    "            break\n",
    "    if ans != []:\n",
    "        g = max(ans,key=len)\n",
    "        return g\n",
    "\n",
    "def out(a):\n",
    "    test_tot_itr = 0    #each iteration value\n",
    "    answer = []     # Store the each word contains the corpus\n",
    "    Score = 0   # initial value for score\n",
    "    N = 37    # total no of corpus\n",
    "    M = 0\n",
    "    C = 0\n",
    "    while test_tot_itr < test_lenth:    \n",
    "        ans_words = Seg(a,test_lenth)\n",
    "        if ans_words != 0:\n",
    "            test_itr = len(ans_words)\n",
    "            answer.append(ans_words)\n",
    "            a = a[test_itr:test_lenth]\n",
    "            test_tot_itr += test_itr\n",
    "\n",
    "    Aft_Seg = \" \".join([each for each in answer])\n",
    "    print(Aft_Seg)  # print After segmentation the input "
   ]
  }
 ],
 "metadata": {
  "kernelspec": {
   "display_name": "Python 3",
   "language": "python",
   "name": "python3"
  },
  "language_info": {
   "codemirror_mode": {
    "name": "ipython",
    "version": 3
   },
   "file_extension": ".py",
   "mimetype": "text/x-python",
   "name": "python",
   "nbconvert_exporter": "python",
   "pygments_lexer": "ipython3",
   "version": "3.11.9"
  }
 },
 "nbformat": 4,
 "nbformat_minor": 2
}
