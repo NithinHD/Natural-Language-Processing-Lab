{
 "cells": [
  {
   "cell_type": "code",
   "execution_count": 34,
   "metadata": {},
   "outputs": [],
   "source": [
    "from nltk.corpus import movie_reviews\n",
    "from nltk import FreqDist\n",
    "from nltk import NaiveBayesClassifier\n",
    "from nltk import classify\n",
    "from nltk import word_tokenize"
   ]
  },
  {
   "cell_type": "code",
   "execution_count": 35,
   "metadata": {},
   "outputs": [],
   "source": [
    "def feat_extract(words):\n",
    "    return dict(FreqDist(words))"
   ]
  },
  {
   "cell_type": "code",
   "execution_count": 36,
   "metadata": {},
   "outputs": [],
   "source": [
    "documents=[(list(movie_reviews.words(file_id)),category)\n",
    "           for category in movie_reviews.categories()\n",
    "           for file_id in movie_reviews.fileids(category)]"
   ]
  },
  {
   "cell_type": "code",
   "execution_count": 37,
   "metadata": {},
   "outputs": [],
   "source": [
    "import random\n",
    "random.shuffle(documents)"
   ]
  },
  {
   "cell_type": "code",
   "execution_count": 38,
   "metadata": {},
   "outputs": [],
   "source": [
    "split_ratio=int(len(documents)*0.8)\n",
    "train_set,test_set=documents[:split_ratio],documents[split_ratio:]"
   ]
  },
  {
   "cell_type": "code",
   "execution_count": 39,
   "metadata": {},
   "outputs": [],
   "source": [
    "train_set=[(feat_extract(word),category) for (word,category)in train_set]\n",
    "test_set=[(feat_extract(word),category) for (word,category)in test_set]"
   ]
  },
  {
   "cell_type": "code",
   "execution_count": 40,
   "metadata": {},
   "outputs": [],
   "source": [
    "model=NaiveBayesClassifier.train(train_set)"
   ]
  },
  {
   "cell_type": "code",
   "execution_count": 41,
   "metadata": {},
   "outputs": [
    {
     "name": "stdout",
     "output_type": "stream",
     "text": [
      "Accuracy:  0.7375\n"
     ]
    }
   ],
   "source": [
    "acc=classify.accuracy(model,test_set)\n",
    "print(\"Accuracy: \",acc)"
   ]
  },
  {
   "cell_type": "code",
   "execution_count": 46,
   "metadata": {},
   "outputs": [],
   "source": [
    "new_sentense=[\n",
    "    'Movie was fantastic',\n",
    "    'Acting was terrible',\n",
    "    'I did not like the movie',\n",
    "    'Acting was superb',\n",
    "]"
   ]
  },
  {
   "cell_type": "code",
   "execution_count": 47,
   "metadata": {},
   "outputs": [
    {
     "name": "stdout",
     "output_type": "stream",
     "text": [
      "Movie was fantastic  :  pos\n",
      "Acting was terrible  :  neg\n",
      "I did not like the movie  :  neg\n",
      "Acting was superb  :  pos\n"
     ]
    }
   ],
   "source": [
    "for sent in new_sentense:\n",
    "   words=word_tokenize(sent)\n",
    "   feat=feat_extract(words)\n",
    "   classi=model.classify(feat)\n",
    "   print(sent,\" : \",classi)"
   ]
  },
  {
   "cell_type": "code",
   "execution_count": null,
   "metadata": {},
   "outputs": [],
   "source": []
  }
 ],
 "metadata": {
  "kernelspec": {
   "display_name": "Python 3",
   "language": "python",
   "name": "python3"
  },
  "language_info": {
   "codemirror_mode": {
    "name": "ipython",
    "version": 3
   },
   "file_extension": ".py",
   "mimetype": "text/x-python",
   "name": "python",
   "nbconvert_exporter": "python",
   "pygments_lexer": "ipython3",
   "version": "3.11.9"
  }
 },
 "nbformat": 4,
 "nbformat_minor": 2
}
