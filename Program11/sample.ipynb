{
 "cells": [
  {
   "cell_type": "code",
   "execution_count": 12,
   "metadata": {},
   "outputs": [],
   "source": [
    "from nltk.corpus import wordnet\n",
    "from nltk.stem import WordNetLemmatizer\n",
    "from nltk import pos_tag\n",
    "from nltk.tokenize import word_tokenize"
   ]
  },
  {
   "cell_type": "code",
   "execution_count": 10,
   "metadata": {},
   "outputs": [],
   "source": [
    "def pos_tagger(word):\n",
    "    tag=pos_tag([word])[0][1][0].upper()\n",
    "    tag_dict={\n",
    "        'N':wordnet.NOUN,\n",
    "        'V':wordnet.VERB,\n",
    "        'R':wordnet.ADV,\n",
    "        'J':wordnet.ADJ\n",
    "    }\n",
    "    return tag_dict.get(tag,wordnet.NOUN)"
   ]
  },
  {
   "cell_type": "code",
   "execution_count": 11,
   "metadata": {},
   "outputs": [
    {
     "name": "stdout",
     "output_type": "stream",
     "text": [
      "well\n"
     ]
    }
   ],
   "source": [
    "word='better'\n",
    "lemma=WordNetLemmatizer()\n",
    "print(lemma.lemmatize(word,pos_tagger(word)))"
   ]
  },
  {
   "cell_type": "code",
   "execution_count": 15,
   "metadata": {},
   "outputs": [
    {
     "name": "stdout",
     "output_type": "stream",
     "text": [
      "[('The', 'N'), ('world', 'N'), ('be', 'V'), ('a', 'N'), ('beautiful', 'N'), ('place', 'N')]\n"
     ]
    }
   ],
   "source": [
    "sent='The world is a beautiful place'\n",
    "words=word_tokenize(sent)\n",
    "print([(lemma.lemmatize(word,pos_tagger(word)),pos_tagger(word).upper() )for word in words])"
   ]
  },
  {
   "cell_type": "code",
   "execution_count": null,
   "metadata": {},
   "outputs": [],
   "source": []
  }
 ],
 "metadata": {
  "kernelspec": {
   "display_name": "Python 3",
   "language": "python",
   "name": "python3"
  },
  "language_info": {
   "codemirror_mode": {
    "name": "ipython",
    "version": 3
   },
   "file_extension": ".py",
   "mimetype": "text/x-python",
   "name": "python",
   "nbconvert_exporter": "python",
   "pygments_lexer": "ipython3",
   "version": "3.11.9"
  }
 },
 "nbformat": 4,
 "nbformat_minor": 2
}
