{
 "cells": [
  {
   "cell_type": "code",
   "execution_count": 3,
   "metadata": {},
   "outputs": [],
   "source": [
    "from nltk.corpus import wordnet\n",
    "from nltk.stem import WordNetLemmatizer\n",
    "from nltk import pos_tag"
   ]
  },
  {
   "cell_type": "code",
   "execution_count": 7,
   "metadata": {},
   "outputs": [],
   "source": [
    "def get_wordnet_pos(word):\n",
    "    tag=pos_tag([word])[0][1][0]\n",
    "    tag_dict={\"J\":wordnet.ADJ,\n",
    "                \"N\":wordnet.NOUN,\n",
    "                \"V\":wordnet.VERB,\n",
    "                \"R\":wordnet.ADV}\n",
    "    return tag_dict.get(tag,wordnet.ADV)"
   ]
  },
  {
   "cell_type": "code",
   "execution_count": 8,
   "metadata": {},
   "outputs": [
    {
     "name": "stdout",
     "output_type": "stream",
     "text": [
      "well\n"
     ]
    }
   ],
   "source": [
    "lemma=WordNetLemmatizer()\n",
    "word=\"better\"\n",
    "print(lemma.lemmatize(word,get_wordnet_pos(word)))"
   ]
  },
  {
   "cell_type": "code",
   "execution_count": 13,
   "metadata": {},
   "outputs": [
    {
     "name": "stdout",
     "output_type": "stream",
     "text": [
      "The quick brown foxes are jumping over the lazy dogs\n",
      "[('The', 'R'), ('quick', 'N'), ('brown', 'N'), ('fox', 'N'), ('be', 'V'), ('jumping', 'N'), ('over', 'R'), ('the', 'R'), ('lazy', 'N'), ('dog', 'N')]\n"
     ]
    }
   ],
   "source": [
    "sentence=\"The quick brown foxes are jumping over the lazy dogs\"\n",
    "words=sentence.split()\n",
    "print(sentence)\n",
    "print([(lemma.lemmatize(word,get_wordnet_pos(word)),get_wordnet_pos(word).upper()) for word in words])"
   ]
  },
  {
   "cell_type": "code",
   "execution_count": 1,
   "metadata": {},
   "outputs": [],
   "source": [
    "from nltk.corpus import wordnet\n",
    "from nltk.stem import WordNetLemmatizer\n",
    "from nltk import pos_tag"
   ]
  },
  {
   "cell_type": "code",
   "execution_count": 3,
   "metadata": {},
   "outputs": [
    {
     "name": "stdout",
     "output_type": "stream",
     "text": [
      "well\n"
     ]
    }
   ],
   "source": [
    "def get_pos(word):\n",
    "    tag=pos_tag([word])[0][1][0].upper()\n",
    "    tag_dict={\n",
    "        'J':wordnet.ADJ,\n",
    "        'N':wordnet.NOUN,\n",
    "        'V':wordnet.VERB,\n",
    "        'R':wordnet.ADV\n",
    "    }\n",
    "    return tag_dict.get(tag,wordnet.NOUN)\n",
    "\n",
    "lemma=WordNetLemmatizer()\n",
    "word=\"better\"\n",
    "print(lemma.lemmatize(word,get_pos(word)))"
   ]
  },
  {
   "cell_type": "code",
   "execution_count": null,
   "metadata": {},
   "outputs": [],
   "source": []
  }
 ],
 "metadata": {
  "kernelspec": {
   "display_name": "Python 3",
   "language": "python",
   "name": "python3"
  },
  "language_info": {
   "codemirror_mode": {
    "name": "ipython",
    "version": 3
   },
   "file_extension": ".py",
   "mimetype": "text/x-python",
   "name": "python",
   "nbconvert_exporter": "python",
   "pygments_lexer": "ipython3",
   "version": "3.11.9"
  }
 },
 "nbformat": 4,
 "nbformat_minor": 2
}
