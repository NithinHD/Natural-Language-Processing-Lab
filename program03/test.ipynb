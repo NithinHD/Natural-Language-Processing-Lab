{
 "cells": [
  {
   "cell_type": "code",
   "execution_count": 1,
   "metadata": {},
   "outputs": [],
   "source": [
    "from nltk.corpus import stopwords\n",
    "from nltk import FreqDist\n",
    "from nltk import trigrams\n",
    "from nltk.corpus import brown"
   ]
  },
  {
   "cell_type": "code",
   "execution_count": 2,
   "metadata": {},
   "outputs": [],
   "source": [
    "def most_freq_bigram(words):\n",
    "    stop_words=set(stopwords.words('english'))\n",
    "    words=[w.lower() for w in words if w.lower() not in stop_words]\n",
    "    bigrm=[b for b in trigrams(words)]\n",
    "    fdist=FreqDist(bigrm)\n",
    "    return fdist.most_common(50)"
   ]
  },
  {
   "cell_type": "code",
   "execution_count": 3,
   "metadata": {},
   "outputs": [
    {
     "name": "stdout",
     "output_type": "stream",
     "text": [
      "[((\"''\", '?', '?'), 916), ((\"''\", '.', '``'), 711), ((\"''\", ',', 'said'), 478), (('?', '?', '``'), 385), ((\"''\", '!', '!'), 350), ((',', 'however', ','), 321), (('said', ',', '``'), 283), (('said', '.', '``'), 281), ((',', 'said', ','), 207), ((',', 'said', '.'), 177), ((',', 'course', ','), 162), (('.', 'however', ','), 156), ((\"''\", ',', '``'), 131), (('.', '``', \"''\"), 97), (('?', '?', 'asked'), 89), ((',', 'example', ','), 88), ((';', ';', ','), 84), (('.', '``', 'know'), 79), ((';', ';', '('), 78), (('.', 'thus', ','), 76), (('(', '1', ')'), 73), (('.', '``', ','), 72), (('(', '2', ')'), 70), (('``', \"''\", '?'), 68), (('.', '``', 'well'), 66), (('.', 'moreover', ','), 64), ((',', 'therefore', ','), 63), (('.', '``', \"i'm\"), 62), (('``', 'well', ','), 61), (('united', 'states', ','), 60), (('!', '!', '``'), 60), (('asked', '.', '``'), 57), (('.', 'example', ','), 56), (('said', ':', '``'), 55), ((\"''\", ';', ';'), 55), (('.', '``', 'oh'), 54), (('new', 'york', ','), 51), ((\"''\", '--', '``'), 51), (('?', '?', ','), 51), (('.', 'said', ','), 50), (('.', 'addition', ','), 49), (('``', \"''\", ','), 49), (('``', 'oh', ','), 49), (('(', 'b', ')'), 49), (('.', ',', ','), 48), (('?', 'asked', '.'), 47), (('.', 'fact', ','), 47), (('united', 'states', '.'), 46), ((')', ';', ';'), 46), (('.', 'course', ','), 44)]\n"
     ]
    }
   ],
   "source": [
    "words=brown.words()\n",
    "print(most_freq_bigram(words))"
   ]
  },
  {
   "cell_type": "code",
   "execution_count": 7,
   "metadata": {},
   "outputs": [
    {
     "name": "stdout",
     "output_type": "stream",
     "text": [
      "Pruska Biblioteka Państwowa. Jej dawne zbiory znane pod nazwą\n",
      "\"Berlinka\" to skarb kultury i sztuki niemieckiej. Przewiezione przez\n",
      "Niemców pod koniec II wojny światowej na Dolny Śląsk, zostały\n",
      "odnalezione po 1945 r. na terytorium Polski. Trafiły do Biblioteki\n",
      "Jagiellońskiej w Krakowie, obejmują ponad 500 tys. zabytkowych\n",
      "archiwaliów, m.in. manuskrypty Goethego, Mozarta, Beethovena, Bacha.\n",
      "---\n",
      "b'Pruska Biblioteka Pa\\\\u0144stwowa. Jej dawne zbiory znane pod nazw\\\\u0105'\n",
      "b'\"Berlinka\" to skarb kultury i sztuki niemieckiej. Przewiezione przez'\n",
      "b'Niemc\\\\xf3w pod koniec II wojny \\\\u015bwiatowej na Dolny \\\\u015al\\\\u0105sk, zosta\\\\u0142y'\n",
      "b'odnalezione po 1945 r. na terytorium Polski. Trafi\\\\u0142y do Biblioteki'\n",
      "b'Jagiello\\\\u0144skiej w Krakowie, obejmuj\\\\u0105 ponad 500 tys. zabytkowych'\n",
      "b'archiwali\\\\xf3w, m.in. manuskrypty Goethego, Mozarta, Beethovena, Bacha.'\n"
     ]
    },
    {
     "data": {
      "text/plain": [
       "b'\\xc5\\x84'"
      ]
     },
     "execution_count": 7,
     "metadata": {},
     "output_type": "execute_result"
    }
   ],
   "source": [
    "import nltk\n",
    "\n",
    "print('---')\n",
    "f = open(path, encoding='latin2')\n",
    "for line in f:\n",
    "    line = line.strip()\n",
    "    print(line.encode('unicode_escape'))\n",
    "\n",
    "nacute = '\\u0144'\n",
    "nacute.encode('utf8')"
   ]
  },
  {
   "cell_type": "code",
   "execution_count": 8,
   "metadata": {},
   "outputs": [
    {
     "data": {
      "text/plain": [
       "18"
      ]
     },
     "execution_count": 8,
     "metadata": {},
     "output_type": "execute_result"
    }
   ],
   "source": [
    "from nltk.corpus import gutenberg\n",
    "len(gutenberg.fileids())"
   ]
  },
  {
   "cell_type": "code",
   "execution_count": 11,
   "metadata": {},
   "outputs": [
    {
     "data": {
      "text/plain": [
       "['glover',\n",
       " 'gorlin',\n",
       " 'govern',\n",
       " 'grovel',\n",
       " 'ignore',\n",
       " 'involver',\n",
       " 'lienor',\n",
       " 'linger',\n",
       " 'longer',\n",
       " 'lovering',\n",
       " 'noiler',\n",
       " 'overling',\n",
       " 'region',\n",
       " 'renvoi',\n",
       " 'revolving',\n",
       " 'ringle',\n",
       " 'roving',\n",
       " 'violer',\n",
       " 'virole']"
      ]
     },
     "execution_count": 11,
     "metadata": {},
     "output_type": "execute_result"
    }
   ],
   "source": [
    "import nltk\n",
    "\n",
    "puzzel_letters = nltk.FreqDist('egivrvonl')\n",
    "obligatory = 'r'\n",
    "wordlist = nltk.corpus.words.words()\n",
    "[w for w in wordlist if len(w) >= 6 and obligatory in w and nltk.FreqDist(w) <= puzzel_letters]"
   ]
  },
  {
   "cell_type": "code",
   "execution_count": null,
   "metadata": {},
   "outputs": [],
   "source": []
  }
 ],
 "metadata": {
  "kernelspec": {
   "display_name": "Python 3",
   "language": "python",
   "name": "python3"
  },
  "language_info": {
   "codemirror_mode": {
    "name": "ipython",
    "version": 3
   },
   "file_extension": ".py",
   "mimetype": "text/x-python",
   "name": "python",
   "nbconvert_exporter": "python",
   "pygments_lexer": "ipython3",
   "version": "3.11.9"
  }
 },
 "nbformat": 4,
 "nbformat_minor": 2
}
