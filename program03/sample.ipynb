{
 "cells": [
  {
   "cell_type": "markdown",
   "metadata": {},
   "source": [
    "write a program to print 50 most frequent bigrams of a text, omitting the stop words. create and perform frequent bigram operations on the text."
   ]
  },
  {
   "cell_type": "code",
   "execution_count": 6,
   "metadata": {},
   "outputs": [],
   "source": [
    "from nltk.corpus import stopwords\n",
    "from nltk import FreqDist\n",
    "from nltk import bigrams\n",
    "from nltk.tokenize import word_tokenize"
   ]
  },
  {
   "cell_type": "code",
   "execution_count": 13,
   "metadata": {},
   "outputs": [],
   "source": [
    "def get_frequent_bigram(text,n):\n",
    "    words=word_tokenize(text)\n",
    "    stop_word=set(stopwords.words('english'))\n",
    "    filtered_bigram=[i for i in bigrams(words) if all(word.lower() not in stop_word for word in i)]\n",
    "    freqdist=FreqDist(filtered_bigram)\n",
    "    most_common_bigram=freqdist.most_common(n)\n",
    "    return most_common_bigram"
   ]
  },
  {
   "cell_type": "code",
   "execution_count": 16,
   "metadata": {},
   "outputs": [
    {
     "name": "stdout",
     "output_type": "stream",
     "text": [
      "('city', ','):1\n",
      "('park', '.'):1\n",
      "('sanctuary', 'amidst'):1\n",
      "('urban', 'chaos'):1\n",
      "('chaos', ','):1\n",
      "('time', 'seems'):1\n",
      "('trees', 'stand'):1\n",
      "('stand', 'tall'):1\n",
      "('tall', ','):1\n",
      "('leaves', 'whispering'):1\n",
      "('whispering', 'stories'):1\n",
      "('seasons', 'passed'):1\n",
      "('passed', '.'):1\n",
      "('.', 'Birds'):1\n",
      "('Birds', 'chirp'):1\n",
      "('chirp', 'melodiously'):1\n",
      "('melodiously', ','):1\n",
      "('songs', 'echoing'):1\n",
      "('air', '.'):1\n",
      "('flowers', 'bloom'):1\n",
      "('vibrant', 'hues'):1\n",
      "('hues', ','):1\n",
      "(',', 'painting'):1\n",
      "('nature', \"'s\"):1\n",
      "(\"'s\", 'beauty'):1\n",
      "('beauty', '.'):1\n",
      "('.', 'Children'):1\n",
      "('Children', \"'s\"):1\n",
      "(\"'s\", 'laughter'):1\n",
      "('laughter', 'fills'):1\n",
      "('play', ','):1\n",
      "('stark', 'contrast'):1\n",
      "('world', 'outside'):1\n",
      "('outside', '.'):1\n",
      "('park', ','):1\n",
      "('serene', 'ambiance'):1\n",
      "('ambiance', ','):1\n",
      "(',', 'serves'):1\n",
      "('simple', 'joys'):1\n",
      "('life', ','):1\n",
      "(',', 'offering'):1\n",
      "('bustle', '.'):1\n"
     ]
    }
   ],
   "source": [
    "text=open('sample.txt').read()\n",
    "result=get_frequent_bigram(text,50)\n",
    "for bigram,frequency in result:\n",
    "    print(f'{bigram}:{frequency}')"
   ]
  },
  {
   "cell_type": "code",
   "execution_count": null,
   "metadata": {},
   "outputs": [],
   "source": []
  }
 ],
 "metadata": {
  "kernelspec": {
   "display_name": "Python 3",
   "language": "python",
   "name": "python3"
  },
  "language_info": {
   "codemirror_mode": {
    "name": "ipython",
    "version": 3
   },
   "file_extension": ".py",
   "mimetype": "text/x-python",
   "name": "python",
   "nbconvert_exporter": "python",
   "pygments_lexer": "ipython3",
   "version": "3.11.7"
  }
 },
 "nbformat": 4,
 "nbformat_minor": 2
}
