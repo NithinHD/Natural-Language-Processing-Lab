{
 "cells": [
  {
   "cell_type": "code",
   "execution_count": 1,
   "metadata": {},
   "outputs": [],
   "source": [
    "from nltk.corpus import brown"
   ]
  },
  {
   "cell_type": "code",
   "execution_count": 2,
   "metadata": {},
   "outputs": [],
   "source": [
    "words=brown.words()"
   ]
  },
  {
   "cell_type": "code",
   "execution_count": 10,
   "metadata": {},
   "outputs": [],
   "source": [
    "wh_words=[w.lower() for w in words if w.startswith('wh')]\n",
    "wh_words=set(wh_words)"
   ]
  },
  {
   "cell_type": "code",
   "execution_count": 12,
   "metadata": {},
   "outputs": [
    {
     "name": "stdout",
     "output_type": "stream",
     "text": [
      "['whack', 'whacked', 'whaddya', 'whaling', 'wharf', 'wharves', 'what', \"what're\", \"what's\", \"what's-his-name\", 'what-nots', 'what-will-t.', 'whatever', 'whatsoever', 'wheare', 'wheat', 'wheat-germ', 'wheedled', 'wheel', 'wheeled', 'wheeling', 'wheels', 'wheezed', 'wheezes', 'wheezing', 'when', 'whence', 'whenever', 'wher', 'where', 'whereabouts', 'whereas', 'whereby', 'whereever', 'wherefores', 'wherein', 'whereof', 'whereon', 'whereupon', 'wherever', 'wherewith', 'whether', 'whetted', 'which', 'whichever', 'whichever-the-hell', 'whiff', 'while', 'whim', 'whimper', 'whimpering', 'whims', 'whimsical', 'whine', 'whined', 'whining', 'whinnied', 'whinny', 'whip', \"whip's\", 'whiplash', 'whiplashes', 'whipped', 'whipping', 'whipping-boys', 'whips', 'whipsawed', 'whir', 'whirl', 'whirled', 'whirling', 'whirlwind', 'whirring', 'whisked', 'whiskered', 'whiskers', 'whiskey', 'whisking', 'whisky', 'whisky-on-the-rocks', 'whisper', 'whispered', 'whispering', 'whisperings', 'whispers', 'whistle', 'whistled', 'whistling', 'whit', 'white', 'white-clad', 'white-collar', 'white-columned', 'white-dominated', 'white-stucco', 'white-suited', 'white-topped', 'whiteface', 'whitehaired', 'whitely', 'whitened', 'whiteness', 'whitening', 'whitens', 'whites', 'whitetail', 'whitewashed', 'whiz', 'whizzed', 'whizzing', 'who', \"who'd\", \"who's\", 'whodunnit', 'whoe', 'whoever', 'whole', 'whole-heartedly', 'whole-house', 'whole-wheat', 'whole-word', 'wholeheartedly', 'wholeness', 'wholes', 'wholesale', 'wholesalers', 'wholesome', 'wholewheat', 'wholly', 'wholly-owned', 'whom', 'whoop', 'whooping', 'whoosh', 'whoppers', 'whopping', 'whore', 'whores', 'whorls', 'whose', 'whosoever', 'why', 'whyfores']\n"
     ]
    }
   ],
   "source": [
    "print(sorted(wh_words))"
   ]
  },
  {
   "cell_type": "code",
   "execution_count": null,
   "metadata": {},
   "outputs": [],
   "source": []
  }
 ],
 "metadata": {
  "kernelspec": {
   "display_name": "Python 3",
   "language": "python",
   "name": "python3"
  },
  "language_info": {
   "codemirror_mode": {
    "name": "ipython",
    "version": 3
   },
   "file_extension": ".py",
   "mimetype": "text/x-python",
   "name": "python",
   "nbconvert_exporter": "python",
   "pygments_lexer": "ipython3",
   "version": "3.11.9"
  }
 },
 "nbformat": 4,
 "nbformat_minor": 2
}
