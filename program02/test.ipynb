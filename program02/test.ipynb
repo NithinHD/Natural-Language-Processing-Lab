{
 "cells": [
  {
   "cell_type": "code",
   "execution_count": 2,
   "metadata": {},
   "outputs": [],
   "source": [
    "from nltk.corpus import stopwords\n",
    "from nltk import FreqDist\n",
    "from nltk.tokenize import word_tokenize"
   ]
  },
  {
   "cell_type": "code",
   "execution_count": 3,
   "metadata": {},
   "outputs": [],
   "source": [
    "def most_freq_word(text):\n",
    "    words=word_tokenize(text)\n",
    "    stop_word=set(stopwords.words('english'))\n",
    "    common_words=[word.lower() for word in words if word.lower() and word.isalpha() not in stop_word]\n",
    "    most_freq=FreqDist(common_words).most_common(50)\n",
    "    return most_freq"
   ]
  },
  {
   "cell_type": "code",
   "execution_count": 4,
   "metadata": {},
   "outputs": [
    {
     "data": {
      "text/plain": [
       "[('the', 11),\n",
       " (',', 9),\n",
       " ('a', 7),\n",
       " ('.', 7),\n",
       " ('of', 5),\n",
       " (\"'s\", 3),\n",
       " ('their', 3),\n",
       " ('in', 2),\n",
       " ('park', 2),\n",
       " ('to', 2),\n",
       " ('air', 2),\n",
       " ('as', 2),\n",
       " ('heart', 1),\n",
       " ('city', 1),\n",
       " ('there', 1),\n",
       " ('lies', 1),\n",
       " ('it', 1),\n",
       " ('sanctuary', 1),\n",
       " ('amidst', 1),\n",
       " ('urban', 1),\n",
       " ('chaos', 1),\n",
       " ('place', 1),\n",
       " ('where', 1),\n",
       " ('time', 1),\n",
       " ('seems', 1),\n",
       " ('slow', 1),\n",
       " ('down', 1),\n",
       " ('trees', 1),\n",
       " ('stand', 1),\n",
       " ('tall', 1),\n",
       " ('leaves', 1),\n",
       " ('whispering', 1),\n",
       " ('stories', 1),\n",
       " ('seasons', 1),\n",
       " ('passed', 1),\n",
       " ('birds', 1),\n",
       " ('chirp', 1),\n",
       " ('melodiously', 1),\n",
       " ('songs', 1),\n",
       " ('echoing', 1),\n",
       " ('through', 1),\n",
       " ('flowers', 1),\n",
       " ('bloom', 1),\n",
       " ('vibrant', 1),\n",
       " ('hues', 1),\n",
       " ('painting', 1),\n",
       " ('picture', 1),\n",
       " ('nature', 1),\n",
       " ('beauty', 1),\n",
       " ('children', 1)]"
      ]
     },
     "execution_count": 4,
     "metadata": {},
     "output_type": "execute_result"
    }
   ],
   "source": [
    "text=open('sample.txt').read()\n",
    "result=most_freq_word(text)\n",
    "result"
   ]
  },
  {
   "cell_type": "code",
   "execution_count": null,
   "metadata": {},
   "outputs": [],
   "source": []
  }
 ],
 "metadata": {
  "kernelspec": {
   "display_name": "Python 3",
   "language": "python",
   "name": "python3"
  },
  "language_info": {
   "codemirror_mode": {
    "name": "ipython",
    "version": 3
   },
   "file_extension": ".py",
   "mimetype": "text/x-python",
   "name": "python",
   "nbconvert_exporter": "python",
   "pygments_lexer": "ipython3",
   "version": "3.11.7"
  }
 },
 "nbformat": 4,
 "nbformat_minor": 2
}
