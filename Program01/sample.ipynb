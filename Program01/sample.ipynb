{
 "cells": [
  {
   "cell_type": "code",
   "execution_count": 1,
   "metadata": {},
   "outputs": [],
   "source": [
    "import nltk"
   ]
  },
  {
   "cell_type": "code",
   "execution_count": 2,
   "metadata": {},
   "outputs": [
    {
     "name": "stdout",
     "output_type": "stream",
     "text": [
      "showing info https://raw.githubusercontent.com/nltk/nltk_data/gh-pages/index.xml\n"
     ]
    },
    {
     "data": {
      "text/plain": [
       "True"
      ]
     },
     "execution_count": 2,
     "metadata": {},
     "output_type": "execute_result"
    }
   ],
   "source": [
    "nltk.download()"
   ]
  },
  {
   "cell_type": "code",
   "execution_count": 3,
   "metadata": {},
   "outputs": [],
   "source": [
    "#book is like data set\n",
    "import nltk.book"
   ]
  },
  {
   "cell_type": "code",
   "execution_count": 12,
   "metadata": {},
   "outputs": [],
   "source": [
    "from nltk import word_tokenize"
   ]
  },
  {
   "cell_type": "code",
   "execution_count": 13,
   "metadata": {},
   "outputs": [],
   "source": [
    "fh=open('sample.txt')\n",
    "text=fh.read()"
   ]
  },
  {
   "cell_type": "code",
   "execution_count": 15,
   "metadata": {},
   "outputs": [],
   "source": [
    "#tokenization\n",
    "token=word_tokenize(text)"
   ]
  },
  {
   "cell_type": "code",
   "execution_count": 16,
   "metadata": {},
   "outputs": [
    {
     "data": {
      "text/plain": [
       "['In',\n",
       " 'the',\n",
       " 'heart',\n",
       " 'of',\n",
       " 'the',\n",
       " 'city',\n",
       " ',',\n",
       " 'there',\n",
       " 'lies',\n",
       " 'a',\n",
       " 'park',\n",
       " '.',\n",
       " 'It',\n",
       " \"'s\",\n",
       " 'a',\n",
       " 'sanctuary',\n",
       " 'amidst',\n",
       " 'the',\n",
       " 'urban',\n",
       " 'chaos',\n",
       " ',',\n",
       " 'a',\n",
       " 'place',\n",
       " 'where',\n",
       " 'time',\n",
       " 'seems',\n",
       " 'to',\n",
       " 'slow',\n",
       " 'down',\n",
       " '.',\n",
       " 'The',\n",
       " 'trees',\n",
       " 'stand',\n",
       " 'tall',\n",
       " ',',\n",
       " 'their',\n",
       " 'leaves',\n",
       " 'whispering',\n",
       " 'stories',\n",
       " 'of',\n",
       " 'seasons',\n",
       " 'passed',\n",
       " '.',\n",
       " 'Birds',\n",
       " 'chirp',\n",
       " 'melodiously',\n",
       " ',',\n",
       " 'their',\n",
       " 'songs',\n",
       " 'echoing',\n",
       " 'through',\n",
       " 'the',\n",
       " 'air',\n",
       " '.',\n",
       " 'The',\n",
       " 'flowers',\n",
       " 'bloom',\n",
       " 'in',\n",
       " 'vibrant',\n",
       " 'hues',\n",
       " ',',\n",
       " 'painting',\n",
       " 'a',\n",
       " 'picture',\n",
       " 'of',\n",
       " 'nature',\n",
       " \"'s\",\n",
       " 'beauty',\n",
       " '.',\n",
       " 'Children',\n",
       " \"'s\",\n",
       " 'laughter',\n",
       " 'fills',\n",
       " 'the',\n",
       " 'air',\n",
       " 'as',\n",
       " 'they',\n",
       " 'play',\n",
       " ',',\n",
       " 'their',\n",
       " 'innocence',\n",
       " 'a',\n",
       " 'stark',\n",
       " 'contrast',\n",
       " 'to',\n",
       " 'the',\n",
       " 'world',\n",
       " 'outside',\n",
       " '.',\n",
       " 'The',\n",
       " 'park',\n",
       " ',',\n",
       " 'with',\n",
       " 'its',\n",
       " 'serene',\n",
       " 'ambiance',\n",
       " ',',\n",
       " 'serves',\n",
       " 'as',\n",
       " 'a',\n",
       " 'reminder',\n",
       " 'of',\n",
       " 'the',\n",
       " 'simple',\n",
       " 'joys',\n",
       " 'of',\n",
       " 'life',\n",
       " ',',\n",
       " 'offering',\n",
       " 'a',\n",
       " 'respite',\n",
       " 'from',\n",
       " 'the',\n",
       " 'hustle',\n",
       " 'and',\n",
       " 'bustle',\n",
       " '.']"
      ]
     },
     "execution_count": 16,
     "metadata": {},
     "output_type": "execute_result"
    }
   ],
   "source": [
    "token"
   ]
  },
  {
   "cell_type": "code",
   "execution_count": 17,
   "metadata": {},
   "outputs": [],
   "source": [
    "from nltk import sent_tokenize"
   ]
  },
  {
   "cell_type": "code",
   "execution_count": 20,
   "metadata": {},
   "outputs": [
    {
     "data": {
      "text/plain": [
       "['In the heart of the city, there lies a park.',\n",
       " \"It's a sanctuary amidst the urban chaos, a place where time seems to slow down.\",\n",
       " 'The trees stand tall, their leaves whispering stories of seasons passed.',\n",
       " 'Birds chirp melodiously, their songs echoing through the air.',\n",
       " \"The flowers bloom in vibrant hues, painting a picture of nature's beauty.\",\n",
       " \"Children's laughter fills the air as they play, their innocence a stark contrast to the world outside.\",\n",
       " 'The park, with its serene ambiance, serves as a reminder of the simple joys of life, offering a respite from the hustle and bustle.']"
      ]
     },
     "execution_count": 20,
     "metadata": {},
     "output_type": "execute_result"
    }
   ],
   "source": [
    "#segmentation\n",
    "sent=sent_tokenize(text)\n",
    "sent"
   ]
  },
  {
   "cell_type": "code",
   "execution_count": 21,
   "metadata": {},
   "outputs": [],
   "source": [
    "from nltk import wordpunct_tokenize"
   ]
  },
  {
   "cell_type": "code",
   "execution_count": 23,
   "metadata": {},
   "outputs": [],
   "source": [
    "#to every punctuation is tokanized\n",
    "samp=wordpunct_tokenize(text)"
   ]
  },
  {
   "cell_type": "code",
   "execution_count": 24,
   "metadata": {},
   "outputs": [
    {
     "data": {
      "text/plain": [
       "['In',\n",
       " 'the',\n",
       " 'heart',\n",
       " 'of',\n",
       " 'the',\n",
       " 'city',\n",
       " ',',\n",
       " 'there',\n",
       " 'lies',\n",
       " 'a',\n",
       " 'park',\n",
       " '.',\n",
       " 'It',\n",
       " \"'\",\n",
       " 's',\n",
       " 'a',\n",
       " 'sanctuary',\n",
       " 'amidst',\n",
       " 'the',\n",
       " 'urban',\n",
       " 'chaos',\n",
       " ',',\n",
       " 'a',\n",
       " 'place',\n",
       " 'where',\n",
       " 'time',\n",
       " 'seems',\n",
       " 'to',\n",
       " 'slow',\n",
       " 'down',\n",
       " '.',\n",
       " 'The',\n",
       " 'trees',\n",
       " 'stand',\n",
       " 'tall',\n",
       " ',',\n",
       " 'their',\n",
       " 'leaves',\n",
       " 'whispering',\n",
       " 'stories',\n",
       " 'of',\n",
       " 'seasons',\n",
       " 'passed',\n",
       " '.',\n",
       " 'Birds',\n",
       " 'chirp',\n",
       " 'melodiously',\n",
       " ',',\n",
       " 'their',\n",
       " 'songs',\n",
       " 'echoing',\n",
       " 'through',\n",
       " 'the',\n",
       " 'air',\n",
       " '.',\n",
       " 'The',\n",
       " 'flowers',\n",
       " 'bloom',\n",
       " 'in',\n",
       " 'vibrant',\n",
       " 'hues',\n",
       " ',',\n",
       " 'painting',\n",
       " 'a',\n",
       " 'picture',\n",
       " 'of',\n",
       " 'nature',\n",
       " \"'\",\n",
       " 's',\n",
       " 'beauty',\n",
       " '.',\n",
       " 'Children',\n",
       " \"'\",\n",
       " 's',\n",
       " 'laughter',\n",
       " 'fills',\n",
       " 'the',\n",
       " 'air',\n",
       " 'as',\n",
       " 'they',\n",
       " 'play',\n",
       " ',',\n",
       " 'their',\n",
       " 'innocence',\n",
       " 'a',\n",
       " 'stark',\n",
       " 'contrast',\n",
       " 'to',\n",
       " 'the',\n",
       " 'world',\n",
       " 'outside',\n",
       " '.',\n",
       " 'The',\n",
       " 'park',\n",
       " ',',\n",
       " 'with',\n",
       " 'its',\n",
       " 'serene',\n",
       " 'ambiance',\n",
       " ',',\n",
       " 'serves',\n",
       " 'as',\n",
       " 'a',\n",
       " 'reminder',\n",
       " 'of',\n",
       " 'the',\n",
       " 'simple',\n",
       " 'joys',\n",
       " 'of',\n",
       " 'life',\n",
       " ',',\n",
       " 'offering',\n",
       " 'a',\n",
       " 'respite',\n",
       " 'from',\n",
       " 'the',\n",
       " 'hustle',\n",
       " 'and',\n",
       " 'bustle',\n",
       " '.']"
      ]
     },
     "execution_count": 24,
     "metadata": {},
     "output_type": "execute_result"
    }
   ],
   "source": [
    "samp"
   ]
  },
  {
   "cell_type": "code",
   "execution_count": 25,
   "metadata": {},
   "outputs": [],
   "source": [
    "from nltk.corpus import stopwords\n",
    "for i in len(samp):\n",
    "    if samp[i]==stopw:"
   ]
  },
  {
   "cell_type": "code",
   "execution_count": null,
   "metadata": {},
   "outputs": [],
   "source": []
  }
 ],
 "metadata": {
  "kernelspec": {
   "display_name": "Python 3",
   "language": "python",
   "name": "python3"
  },
  "language_info": {
   "codemirror_mode": {
    "name": "ipython",
    "version": 3
   },
   "file_extension": ".py",
   "mimetype": "text/x-python",
   "name": "python",
   "nbconvert_exporter": "python",
   "pygments_lexer": "ipython3",
   "version": "3.11.7"
  }
 },
 "nbformat": 4,
 "nbformat_minor": 2
}
