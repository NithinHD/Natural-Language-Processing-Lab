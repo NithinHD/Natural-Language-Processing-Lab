{
 "cells": [
  {
   "cell_type": "markdown",
   "metadata": {},
   "source": [
    "# Write a python program to remove stop words for a given passage from a text file using NLTK. Implement stop word removal operation in an NLP application.\n",
    "\n"
   ]
  },
  {
   "cell_type": "code",
   "execution_count": 8,
   "metadata": {},
   "outputs": [],
   "source": [
    "from nltk.corpus import stopwords\n",
    "from nltk.tokenize import word_tokenize"
   ]
  },
  {
   "cell_type": "code",
   "execution_count": 9,
   "metadata": {},
   "outputs": [],
   "source": [
    "sample_text = 'and And AND'"
   ]
  },
  {
   "cell_type": "code",
   "execution_count": 15,
   "metadata": {},
   "outputs": [
    {
     "name": "stdout",
     "output_type": "stream",
     "text": [
      "179  179\n"
     ]
    }
   ],
   "source": [
    "stop_words = set(stopwords.words(\"english\"))\n",
    "stop_words1 = (stopwords.words(\"english\"))\n",
    "print(f'{len(stop_words)}  {len(stop_words1)}')"
   ]
  },
  {
   "cell_type": "code",
   "execution_count": 12,
   "metadata": {},
   "outputs": [
    {
     "data": {
      "text/plain": [
       "['SOME',\n",
       " 'WHICH',\n",
       " 'ISN',\n",
       " 'WOULDN',\n",
       " \"YOU'RE\",\n",
       " \"AREN'T\",\n",
       " 'ALL',\n",
       " \"MUSTN'T\",\n",
       " 'THEN',\n",
       " \"NEEDN'T\",\n",
       " 'WHERE',\n",
       " \"ISN'T\",\n",
       " 'DOING',\n",
       " 'OUR',\n",
       " 'THEM',\n",
       " 'THOSE',\n",
       " 'THESE',\n",
       " 'MOST',\n",
       " \"DON'T\",\n",
       " 'MA',\n",
       " 'THEIR',\n",
       " 'MY',\n",
       " 'WHAT',\n",
       " 'WERE',\n",
       " 'JUST',\n",
       " 'BEEN',\n",
       " 'O',\n",
       " \"IT'S\",\n",
       " 'YOURS',\n",
       " 'SAME',\n",
       " 'WHY',\n",
       " 'DIDN',\n",
       " 'YOU',\n",
       " 'FOR',\n",
       " 'AGAINST',\n",
       " 'DON',\n",
       " 'HIMSELF',\n",
       " 'OF',\n",
       " 'NEEDN',\n",
       " 'WEREN',\n",
       " 'OTHER',\n",
       " 'HERSELF',\n",
       " 'M',\n",
       " 'ONLY',\n",
       " 'THROUGH',\n",
       " 'MUSTN',\n",
       " \"DIDN'T\",\n",
       " \"WOULDN'T\",\n",
       " 'ME',\n",
       " 'DOES',\n",
       " 'THERE',\n",
       " 'SHOULD',\n",
       " 'A',\n",
       " 'DURING',\n",
       " 'THIS',\n",
       " 'DOWN',\n",
       " \"YOU'D\",\n",
       " 'YOURSELF',\n",
       " 'HADN',\n",
       " 'MYSELF',\n",
       " \"SHE'S\",\n",
       " 'OFF',\n",
       " 'HERS',\n",
       " 'OURSELVES',\n",
       " \"COULDN'T\",\n",
       " \"SHOULD'VE\",\n",
       " 'OR',\n",
       " 'AT',\n",
       " 'HIS',\n",
       " 'HAVING',\n",
       " 'Y',\n",
       " 'WITH',\n",
       " \"SHAN'T\",\n",
       " 'YOUR',\n",
       " 'DO',\n",
       " \"WEREN'T\",\n",
       " 'UNTIL',\n",
       " 'THAN',\n",
       " 'HAD',\n",
       " \"THAT'LL\",\n",
       " 'WHEN',\n",
       " 'THAT',\n",
       " 'ON',\n",
       " 'SHAN',\n",
       " 'OWN',\n",
       " 'WAS',\n",
       " \"MIGHTN'T\",\n",
       " 'ITSELF',\n",
       " 'CAN',\n",
       " 'IT',\n",
       " 'MORE',\n",
       " 'WON',\n",
       " 'AIN',\n",
       " 'LL',\n",
       " 'BEFORE',\n",
       " 'AN',\n",
       " \"HADN'T\",\n",
       " 'WHOM',\n",
       " 'FEW',\n",
       " 'HERE',\n",
       " 'UNDER',\n",
       " 'SO',\n",
       " 'BE',\n",
       " 'DID',\n",
       " 'THEY',\n",
       " 'WE',\n",
       " 'YOURSELVES',\n",
       " 'UP',\n",
       " 'SUCH',\n",
       " 'T',\n",
       " \"WON'T\",\n",
       " 'HE',\n",
       " 'BUT',\n",
       " 'S',\n",
       " 'HER',\n",
       " 'VERY',\n",
       " 'AM',\n",
       " 'NOW',\n",
       " 'MIGHTN',\n",
       " \"YOU'VE\",\n",
       " 'IN',\n",
       " \"HASN'T\",\n",
       " 'ITS',\n",
       " 'HAVE',\n",
       " 'HAVEN',\n",
       " 'AND',\n",
       " \"HAVEN'T\",\n",
       " 'AREN',\n",
       " 'EACH',\n",
       " 'OVER',\n",
       " 'FURTHER',\n",
       " 'WHO',\n",
       " 'WILL',\n",
       " 'TO',\n",
       " 'WHILE',\n",
       " 'VE',\n",
       " \"WASN'T\",\n",
       " 'ONCE',\n",
       " 'OUT',\n",
       " 'BEING',\n",
       " 'OURS',\n",
       " 'NOT',\n",
       " 'I',\n",
       " 'THEMSELVES',\n",
       " 'BETWEEN',\n",
       " 'AS',\n",
       " 'ABOUT',\n",
       " 'TOO',\n",
       " 'IS',\n",
       " 'THEIRS',\n",
       " \"SHOULDN'T\",\n",
       " 'ANY',\n",
       " 'AFTER',\n",
       " 'INTO',\n",
       " 'WASN',\n",
       " 'HIM',\n",
       " 'DOESN',\n",
       " 'SHE',\n",
       " 'AGAIN',\n",
       " 'ARE',\n",
       " 'HAS',\n",
       " 'IF',\n",
       " 'D',\n",
       " 'BY',\n",
       " 'BOTH',\n",
       " \"YOU'LL\",\n",
       " 'RE',\n",
       " 'SHOULDN',\n",
       " 'ABOVE',\n",
       " 'HASN',\n",
       " 'NO',\n",
       " 'BECAUSE',\n",
       " \"DOESN'T\",\n",
       " 'COULDN',\n",
       " 'FROM',\n",
       " 'HOW',\n",
       " 'THE',\n",
       " 'BELOW',\n",
       " 'NOR']"
      ]
     },
     "execution_count": 12,
     "metadata": {},
     "output_type": "execute_result"
    }
   ],
   "source": [
    "stop_words=[w.upper() for w in stop_words]\n",
    "stop_words"
   ]
  },
  {
   "cell_type": "code",
   "execution_count": null,
   "metadata": {},
   "outputs": [],
   "source": [
    "words=word_tokenize(sample_text)\n",
    "filtered_sentence = [w for w in words if not  w.lower() in stop_words]\n",
    "print(filtered_sentence)"
   ]
  },
  {
   "cell_type": "code",
   "execution_count": null,
   "metadata": {},
   "outputs": [],
   "source": [
    "sample_text1 = 'and And AND'\n",
    "words1=word_tokenize(sample_text1)"
   ]
  },
  {
   "cell_type": "code",
   "execution_count": null,
   "metadata": {},
   "outputs": [],
   "source": [
    "filtered_sentence = [w for w in words1 if not w in stop_words]\n",
    "print(filtered_sentence)"
   ]
  },
  {
   "cell_type": "code",
   "execution_count": null,
   "metadata": {},
   "outputs": [],
   "source": []
  }
 ],
 "metadata": {
  "kernelspec": {
   "display_name": "Python 3",
   "language": "python",
   "name": "python3"
  },
  "language_info": {
   "codemirror_mode": {
    "name": "ipython",
    "version": 3
   },
   "file_extension": ".py",
   "mimetype": "text/x-python",
   "name": "python",
   "nbconvert_exporter": "python",
   "pygments_lexer": "ipython3",
   "version": "3.11.7"
  }
 },
 "nbformat": 4,
 "nbformat_minor": 2
}
