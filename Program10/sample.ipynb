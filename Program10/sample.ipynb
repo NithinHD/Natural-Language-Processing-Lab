{
 "cells": [
  {
   "cell_type": "markdown",
   "metadata": {},
   "source": [
    "# Write a program to POS tagging for the given sentence using nltk"
   ]
  },
  {
   "cell_type": "code",
   "execution_count": 13,
   "metadata": {},
   "outputs": [],
   "source": [
    "from nltk import pos_tag\n",
    "from nltk.tokenize import word_tokenize\n",
    "from nltk.corpus import stopwords"
   ]
  },
  {
   "cell_type": "code",
   "execution_count": 14,
   "metadata": {},
   "outputs": [
    {
     "name": "stdout",
     "output_type": "stream",
     "text": [
      "[('heart', 'NN'), ('city', 'NN'), (',', ','), ('lies', 'VBZ'), ('park', 'NN'), ('.', '.')]\n"
     ]
    }
   ],
   "source": [
    "def pos_tags(sent):\n",
    "    words= word_tokenize (sent)\n",
    "    stop_words=stopwords.words('english')\n",
    "    filter=[w for w in words if w.lower() not in stop_words]\n",
    "    pos=pos_tag(filter)\n",
    "    return pos\n",
    "\n",
    "sentence='In the heart of the city, there lies a park.'\n",
    "print(pos_tags(sentence))"
   ]
  },
  {
   "cell_type": "code",
   "execution_count": null,
   "metadata": {},
   "outputs": [],
   "source": []
  }
 ],
 "metadata": {
  "kernelspec": {
   "display_name": "Python 3",
   "language": "python",
   "name": "python3"
  },
  "language_info": {
   "codemirror_mode": {
    "name": "ipython",
    "version": 3
   },
   "file_extension": ".py",
   "mimetype": "text/x-python",
   "name": "python",
   "nbconvert_exporter": "python",
   "pygments_lexer": "ipython3",
   "version": "3.11.9"
  }
 },
 "nbformat": 4,
 "nbformat_minor": 2
}
