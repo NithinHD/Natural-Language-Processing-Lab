{
 "cells": [
  {
   "cell_type": "code",
   "execution_count": 4,
   "metadata": {},
   "outputs": [
    {
     "name": "stdout",
     "output_type": "stream",
     "text": [
      "Translated French text: Bonjour\n",
      "Quitting...\n"
     ]
    }
   ],
   "source": [
    "from googletrans import Translator\n",
    "\n",
    "def translate_text(text, src_lang, dest_lang):\n",
    "    return Translator().translate(text, src=src_lang, dest=dest_lang).text\n",
    "\n",
    "while True:\n",
    "    choice = input(\"Enter '1' for French to English translation, '2' for English to French translation, or 'q' to quit: \")\n",
    "    \n",
    "    if choice == '1':\n",
    "        print(\"Translated English text:\", translate_text(input(\"Enter French text: \"), 'fr', 'en'))\n",
    "    elif choice == '2':\n",
    "        print(\"Translated French text:\", translate_text(input(\"Enter English text: \"), 'en', 'fr'))\n",
    "    elif choice.lower() == 'q':\n",
    "        print(\"Quitting...\")\n",
    "        break\n",
    "    else:\n",
    "        print(\"Invalid choice. Please enter '1', '2', or 'q'.\")"
   ]
  },
  {
   "cell_type": "code",
   "execution_count": 5,
   "metadata": {},
   "outputs": [],
   "source": [
    "from googletrans import Translator"
   ]
  },
  {
   "cell_type": "code",
   "execution_count": 8,
   "metadata": {},
   "outputs": [],
   "source": [
    "def translate_text(text,src_lang,dest_lang):\n",
    "    return Translator().translate(text,src=src_lang,dest=dest_lang).text"
   ]
  },
  {
   "cell_type": "code",
   "execution_count": 9,
   "metadata": {},
   "outputs": [
    {
     "name": "stdout",
     "output_type": "stream",
     "text": [
      "Translated English text: Good morning\n",
      "Translated French text: Bonjour\n",
      "Translated French text: bonjour\n",
      "Quitting...\n"
     ]
    }
   ],
   "source": [
    "while True:\n",
    "    choise=input(\"Enter '1' for French to English translation, '2' for English to French translation, or 'q' to quit: \")\n",
    "\n",
    "    if choise=='1':\n",
    "        print(\"Translated English text:\",translate_text(input(\"Enter French text: \"),'fr','en'))\n",
    "    elif choise=='2':\n",
    "        print(\"Translated French text:\",translate_text(input(\"Enter English text: \"),'en','fr'))\n",
    "    elif choise.lower()=='q':\n",
    "        print(\"Quitting...\")\n",
    "        break\n",
    "    else:\n",
    "        print(\"Invalid choice. Please enter '1','2',or 'q'.\")"
   ]
  },
  {
   "cell_type": "code",
   "execution_count": null,
   "metadata": {},
   "outputs": [],
   "source": []
  }
 ],
 "metadata": {
  "kernelspec": {
   "display_name": "Python 3",
   "language": "python",
   "name": "python3"
  },
  "language_info": {
   "codemirror_mode": {
    "name": "ipython",
    "version": 3
   },
   "file_extension": ".py",
   "mimetype": "text/x-python",
   "name": "python",
   "nbconvert_exporter": "python",
   "pygments_lexer": "ipython3",
   "version": "3.11.9"
  }
 },
 "nbformat": 4,
 "nbformat_minor": 2
}
