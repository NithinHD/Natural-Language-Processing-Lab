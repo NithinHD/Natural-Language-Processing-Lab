{
 "cells": [
  {
   "cell_type": "code",
   "execution_count": 2,
   "metadata": {},
   "outputs": [],
   "source": [
    "from googletrans import Translator"
   ]
  },
  {
   "cell_type": "code",
   "execution_count": 4,
   "metadata": {},
   "outputs": [],
   "source": [
    "def translate_text(text,src,dest):\n",
    "    return Translator().translate(text,src=src,dest=dest).text"
   ]
  },
  {
   "cell_type": "code",
   "execution_count": 6,
   "metadata": {},
   "outputs": [
    {
     "name": "stdout",
     "output_type": "stream",
     "text": [
      "English text: Good morning\n",
      "French text: femme\n",
      "English text: feel\n",
      "Exiting the program\n"
     ]
    }
   ],
   "source": [
    "while True:\n",
    "    choice=input('''Enter '1' to translate from French to English \\n\n",
    "                 Enter '2' to translate from English to French \\n\n",
    "                 Enter '3' to exit\\n''')\n",
    "    if choice=='1':\n",
    "        text=input('Enter the French text you want to translate to English: ')\n",
    "        print(f\"English text: {translate_text(text,'fr','en')}\")\n",
    "    elif choice=='2':\n",
    "        text=input('Enter the English text you want to translate to French: ')\n",
    "        print(f\"French text: {translate_text(text,'en','fr')}\")\n",
    "    elif choice.lower()=='q':\n",
    "        print('Exiting the program')\n",
    "        break\n",
    "    else:\n",
    "        print('Invalid choice! Please try again')"
   ]
  },
  {
   "cell_type": "code",
   "execution_count": null,
   "metadata": {},
   "outputs": [],
   "source": []
  }
 ],
 "metadata": {
  "kernelspec": {
   "display_name": "Python 3",
   "language": "python",
   "name": "python3"
  },
  "language_info": {
   "codemirror_mode": {
    "name": "ipython",
    "version": 3
   },
   "file_extension": ".py",
   "mimetype": "text/x-python",
   "name": "python",
   "nbconvert_exporter": "python",
   "pygments_lexer": "ipython3",
   "version": "3.11.9"
  }
 },
 "nbformat": 4,
 "nbformat_minor": 2
}
