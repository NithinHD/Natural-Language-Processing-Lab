{
 "cells": [
  {
   "cell_type": "markdown",
   "metadata": {},
   "source": [
    "Define a string s = 'colorless'. Write a Python statement that changes this to “colourless” using only the slice and concatenation operations. "
   ]
  },
  {
   "cell_type": "code",
   "execution_count": 1,
   "metadata": {},
   "outputs": [
    {
     "name": "stdout",
     "output_type": "stream",
     "text": [
      "Quitting...\n"
     ]
    }
   ],
   "source": [
    "from googletrans import Translator\n",
    "\n",
    "def translate_text(text, src_lang, dest_lang):\n",
    "    return Translator().translate(text, src=src_lang, dest=dest_lang).text\n",
    "\n",
    "while True:\n",
    "    choice = input(\"Enter '1' for French to English translation, '2' for English to French translation, or 'q' to quit: \")\n",
    "    \n",
    "    if choice == '1':\n",
    "        print(\"Translated English text:\", translate_text(input(\"Enter French text: \"), 'fr', 'en'))\n",
    "    elif choice == '2':\n",
    "        print(\"Translated French text:\", translate_text(input(\"Enter English text: \"), 'en', 'fr'))\n",
    "    elif choice.lower() == 'q':\n",
    "        print(\"Quitting...\")\n",
    "        break\n",
    "    else:\n",
    "        print(\"Invalid choice. Please enter '1', '2', or 'q'.\")"
   ]
  },
  {
   "cell_type": "code",
   "execution_count": 1,
   "metadata": {},
   "outputs": [],
   "source": [
    "s='colorless'"
   ]
  },
  {
   "cell_type": "code",
   "execution_count": 2,
   "metadata": {},
   "outputs": [
    {
     "data": {
      "text/plain": [
       "'colourless'"
      ]
     },
     "execution_count": 2,
     "metadata": {},
     "output_type": "execute_result"
    }
   ],
   "source": [
    "mod_text=s[:3]+'our'+s[-4:]\n",
    "mod_text"
   ]
  },
  {
   "cell_type": "code",
   "execution_count": null,
   "metadata": {},
   "outputs": [],
   "source": []
  }
 ],
 "metadata": {
  "kernelspec": {
   "display_name": "Python 3",
   "language": "python",
   "name": "python3"
  },
  "language_info": {
   "codemirror_mode": {
    "name": "ipython",
    "version": 3
   },
   "file_extension": ".py",
   "mimetype": "text/x-python",
   "name": "python",
   "nbconvert_exporter": "python",
   "pygments_lexer": "ipython3",
   "version": "3.11.9"
  }
 },
 "nbformat": 4,
 "nbformat_minor": 2
}
